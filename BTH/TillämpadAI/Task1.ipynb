{
 "cells": [
  {
   "cell_type": "code",
   "execution_count": 215,
   "metadata": {},
   "outputs": [],
   "source": [
    "# Imports \n",
    "import numpy as np\n",
    "# import random\n",
    "from datetime import datetime\n",
    "import matplotlib.pyplot as plt"
   ]
  },
  {
   "cell_type": "code",
   "execution_count": 216,
   "metadata": {},
   "outputs": [],
   "source": [
    "# Parameters\n",
    "n_cities = 20\n",
    "n_population = 10\n",
    "mutation_rate = 0.1"
   ]
  },
  {
   "cell_type": "code",
   "execution_count": 217,
   "metadata": {},
   "outputs": [
    {
     "data": {
      "text/plain": [
       "{'Berlin': [87, 87],\n",
       " 'London': [13, 79],\n",
       " 'Moscow': [24, 11],\n",
       " 'Barcelona': [46, 36],\n",
       " 'Rome': [13, 39],\n",
       " 'Paris': [4, 89],\n",
       " 'Vienna': [34, 1],\n",
       " 'Munich': [78, 41],\n",
       " 'Istanbul': [61, 8],\n",
       " 'Kyiv': [6, 78],\n",
       " 'Bucharest': [2, 52],\n",
       " 'Minsk': [1, 84],\n",
       " 'Warsaw': [16, 78],\n",
       " 'Budapest': [83, 50],\n",
       " 'Milan': [64, 33],\n",
       " 'Prague': [80, 68],\n",
       " 'Sofia': [9, 41],\n",
       " 'Birmingham': [94, 1],\n",
       " 'Brussels': [38, 46],\n",
       " 'Amsterdam': [77, 57]}"
      ]
     },
     "execution_count": 217,
     "metadata": {},
     "output_type": "execute_result"
    }
   ],
   "source": [
    "# Generating a list of coordenades representing each city\n",
    "coordinates_list = [[x,y] for x,y in zip(np.random.randint(0,100,n_cities),np.random.randint(0,100,n_cities))]\n",
    "names_list = np.array(['Berlin', 'London', 'Moscow', 'Barcelona', 'Rome', 'Paris', 'Vienna', 'Munich', 'Istanbul', 'Kyiv', 'Bucharest', 'Minsk', 'Warsaw', 'Budapest', 'Milan', 'Prague', 'Sofia', 'Birmingham', 'Brussels', 'Amsterdam'])\n",
    "cities_dict = { x:y for x,y in zip(names_list,coordinates_list)}\n",
    "\n",
    "# Function to compute the distance between two points\n",
    "def compute_city_distance_coordinates(a,b):\n",
    "    return ((a[0]-b[0])**2+(a[1]-b[1])**2)**0.5\n",
    "\n",
    "def compute_city_distance_names(city_a, city_b, cities_dict):\n",
    "    return compute_city_distance_coordinates(cities_dict[city_a], cities_dict[city_b])\n",
    "\n",
    "cities_dict"
   ]
  },
  {
   "cell_type": "code",
   "execution_count": 218,
   "metadata": {},
   "outputs": [
    {
     "data": {
      "text/plain": [
       "array([['Brussels', 'Istanbul', 'Amsterdam', ..., 'Minsk', 'Rome',\n",
       "        'Paris'],\n",
       "       ['Rome', 'Barcelona', 'Bucharest', ..., 'Istanbul', 'Berlin',\n",
       "        'Moscow'],\n",
       "       ['Istanbul', 'Berlin', 'Minsk', ..., 'Brussels', 'Amsterdam',\n",
       "        'Prague'],\n",
       "       ...,\n",
       "       ['Moscow', 'Rome', 'Brussels', ..., 'Birmingham', 'Vienna',\n",
       "        'Istanbul'],\n",
       "       ['Vienna', 'Brussels', 'Moscow', ..., 'Amsterdam', 'Rome',\n",
       "        'Paris'],\n",
       "       ['Birmingham', 'Berlin', 'Rome', ..., 'Moscow', 'Istanbul',\n",
       "        'Minsk']], dtype='<U10')"
      ]
     },
     "execution_count": 218,
     "metadata": {},
     "output_type": "execute_result"
    }
   ],
   "source": [
    "# First step: Create the first population set\n",
    "def genesis(city_list, n_population):\n",
    "\n",
    "    population_set = []\n",
    "    for i in range(n_population):\n",
    "        #Randomly generating a new solution\n",
    "        sol_i = city_list[np.random.choice(list(range(n_cities)), n_cities, replace=False)]\n",
    "        population_set.append(sol_i)\n",
    "    return np.array(population_set)\n",
    "\n",
    "population_set = genesis(names_list, n_population)\n",
    "population_set"
   ]
  },
  {
   "cell_type": "code",
   "execution_count": 219,
   "metadata": {},
   "outputs": [],
   "source": [
    "def fitness_eval(city_list, cities_dict):\n",
    "    total = 0\n",
    "    for i in range(n_cities-1):\n",
    "        a = city_list[i]\n",
    "        b = city_list[i+1]\n",
    "        total += compute_city_distance_names(a,b, cities_dict)\n",
    "    return total"
   ]
  },
  {
   "cell_type": "code",
   "execution_count": 220,
   "metadata": {},
   "outputs": [
    {
     "data": {
      "text/plain": [
       "array([1074.91857644, 1157.6956591 ,  926.75877413, 1082.31413396,\n",
       "       1038.81464841, 1174.37614847,  993.50172084, 1118.61368635,\n",
       "       1127.42240216, 1245.6759347 , 1152.88923013, 1030.27735409,\n",
       "       1087.11657019, 1134.45722244,  913.59679968,  973.56839099,\n",
       "       1034.40131364, 1141.43867662, 1014.53929481, 1166.71340749,\n",
       "       1201.5389153 ,  966.56509557, 1121.57664208,  951.79337444,\n",
       "        974.33724665, 1155.53521653, 1116.56243774, 1138.89545725,\n",
       "        898.31854647, 1026.71129808,  848.10423161,  934.04124749,\n",
       "       1240.09958704, 1271.62713815,  998.37015529,  865.81877082,\n",
       "        956.3930437 , 1042.3488473 , 1140.79442686, 1024.25756436,\n",
       "       1078.31472618, 1170.05280259, 1119.38235792, 1221.6118012 ,\n",
       "       1107.28797875, 1120.07287439,  917.41482573, 1322.99665771,\n",
       "       1150.91933224, 1060.64456855, 1007.31713017, 1000.68388029,\n",
       "       1148.10326307, 1004.22314229, 1176.3727006 , 1041.4685736 ,\n",
       "       1026.99558274, 1116.16191155, 1057.8416613 ,  930.51165626,\n",
       "       1135.88239545, 1194.20661777, 1092.80708315, 1132.27754337,\n",
       "       1055.59875329, 1062.79409821, 1253.34537443, 1164.83107349,\n",
       "        992.21437374, 1115.59084258,  915.14385987, 1055.37560534,\n",
       "       1169.34743688,  968.14776918,  956.88400877, 1146.82538468,\n",
       "       1037.18171209, 1252.24774498,  987.78944926, 1024.30279508,\n",
       "       1155.08299044,  963.49888045,  942.35650477, 1042.25297342,\n",
       "       1043.57351   , 1144.50931414, 1071.27239808, 1064.93439452,\n",
       "        942.92147748, 1159.05271072,  875.50598499, 1042.45294899,\n",
       "        947.09574461, 1179.65733883, 1108.93861421, 1090.16535135,\n",
       "       1163.7530173 ,  888.06254555,  864.84509098, 1041.04660992])"
      ]
     },
     "execution_count": 220,
     "metadata": {},
     "output_type": "execute_result"
    }
   ],
   "source": [
    "def get_all_fitnes(population_set, cities_dict):\n",
    "    fitnes_list = np.zeros(n_population)\n",
    "\n",
    "    #Looping over all solutions computing the fitness for each solution\n",
    "    for i in  range(n_population):\n",
    "        fitnes_list[i] = fitness_eval(population_set[i], cities_dict)\n",
    "\n",
    "    return fitnes_list\n",
    "\n",
    "fitnes_list = get_all_fitnes(population_set,cities_dict)\n",
    "fitnes_list"
   ]
  },
  {
   "cell_type": "code",
   "execution_count": 221,
   "metadata": {},
   "outputs": [
    {
     "data": {
      "text/plain": [
       "array(['Amsterdam', 'Paris', 'Rome', 'Istanbul', 'Budapest', 'Birmingham',\n",
       "       'Sofia', 'Prague', 'London', 'Barcelona', 'Berlin', 'Moscow',\n",
       "       'Brussels', 'Milan', 'Warsaw', 'Munich', 'Vienna', 'Kyiv', 'Minsk',\n",
       "       'Bucharest'], dtype='<U10')"
      ]
     },
     "execution_count": 221,
     "metadata": {},
     "output_type": "execute_result"
    }
   ],
   "source": [
    "def progenitor_selection(population_set,fitnes_list):\n",
    "    total_fit = fitnes_list.sum()\n",
    "    prob_list = (total_fit/fitnes_list)\n",
    "    prob_list = prob_list/prob_list.sum()\n",
    "    \n",
    "    #Notice there is the chance that a progenitor. mates with oneself\n",
    "    progenitor_list_a = np.random.choice(list(range(len(population_set))), len(population_set),p=prob_list, replace=True)\n",
    "    progenitor_list_b = np.random.choice(list(range(len(population_set))), len(population_set),p=prob_list, replace=True)\n",
    "    \n",
    "    progenitor_list_a = population_set[progenitor_list_a]\n",
    "    progenitor_list_b = population_set[progenitor_list_b]\n",
    "    \n",
    "    \n",
    "    return np.array([progenitor_list_a,progenitor_list_b])\n",
    "\n",
    "\n",
    "progenitor_list = progenitor_selection(population_set,fitnes_list)\n",
    "progenitor_list[0][2]"
   ]
  },
  {
   "cell_type": "code",
   "execution_count": 222,
   "metadata": {},
   "outputs": [
    {
     "data": {
      "text/plain": [
       "array(['Rome', 'Moscow', 'Birmingham', 'Vienna', 'Berlin', 'Prague',\n",
       "       'Amsterdam', 'London', 'Paris', 'Bucharest', 'Istanbul', 'Kyiv',\n",
       "       'Minsk', 'Sofia', 'Brussels', 'Munich', 'Barcelona', 'Budapest',\n",
       "       'Warsaw', 'Milan'], dtype='<U10')"
      ]
     },
     "execution_count": 222,
     "metadata": {},
     "output_type": "execute_result"
    }
   ],
   "source": [
    "def mate_progenitors(prog_a, prog_b):\n",
    "    offspring = prog_a[0:5]\n",
    "\n",
    "    for city in prog_b:\n",
    "\n",
    "        if not city in offspring:\n",
    "            offspring = np.concatenate((offspring,[city]))\n",
    "\n",
    "    return offspring\n",
    "            \n",
    "    \n",
    "    \n",
    "def mate_population(progenitor_list):\n",
    "    new_population_set = []\n",
    "    for i in range(progenitor_list.shape[1]):\n",
    "        prog_a, prog_b = progenitor_list[0][i], progenitor_list[1][i]\n",
    "        offspring = mate_progenitors(prog_a, prog_b)\n",
    "        new_population_set.append(offspring)\n",
    "        \n",
    "    return new_population_set\n",
    "\n",
    "new_population_set = mate_population(progenitor_list)\n",
    "new_population_set[0]"
   ]
  },
  {
   "cell_type": "code",
   "execution_count": 223,
   "metadata": {},
   "outputs": [
    {
     "data": {
      "text/plain": [
       "array(['Amsterdam', 'Vienna', 'Prague', 'London', 'Milan', 'Bucharest',\n",
       "       'Budapest', 'Birmingham', 'Paris', 'Barcelona', 'Berlin', 'Kyiv',\n",
       "       'Rome', 'Moscow', 'Brussels', 'Sofia', 'Munich', 'Warsaw',\n",
       "       'Istanbul', 'Minsk'], dtype='<U10')"
      ]
     },
     "execution_count": 223,
     "metadata": {},
     "output_type": "execute_result"
    }
   ],
   "source": [
    "def mutate_offspring(offspring):\n",
    "    for q in range(int(n_cities*mutation_rate)):\n",
    "        a = np.random.randint(0,n_cities)\n",
    "        b = np.random.randint(0,n_cities)\n",
    "\n",
    "        offspring[a], offspring[b] = offspring[b], offspring[a]\n",
    "\n",
    "    return offspring\n",
    "    \n",
    "    \n",
    "def mutate_population(new_population_set):\n",
    "    mutated_pop = []\n",
    "    for offspring in new_population_set:\n",
    "        mutated_pop.append(mutate_offspring(offspring))\n",
    "    return mutated_pop\n",
    "\n",
    "mutated_pop = mutate_population(new_population_set)\n",
    "mutated_pop[0]"
   ]
  },
  {
   "cell_type": "code",
   "execution_count": 224,
   "metadata": {},
   "outputs": [
    {
     "name": "stdout",
     "output_type": "stream",
     "text": [
      "0 inf 1066.8492893685718 04/10/23 15:52\n",
      "50 702.9714834840734 1085.8089433295481 04/10/23 15:52\n",
      "100 702.9714834840734 1063.9735032300466 04/10/23 15:52\n",
      "150 655.6667011032501 1080.3345394790572 04/10/23 15:52\n",
      "200 655.6667011032501 1065.765318312207 04/10/23 15:52\n",
      "250 655.6667011032501 1051.574540617529 04/10/23 15:52\n",
      "300 651.9850372957285 1065.296288712836 04/10/23 15:52\n",
      "350 638.9303638556747 1074.4903751920465 04/10/23 15:52\n",
      "400 638.9303638556747 1056.8003332848368 04/10/23 15:52\n",
      "450 638.9303638556747 1073.2971974920606 04/10/23 15:52\n",
      "500 638.9303638556747 1046.2265067042372 04/10/23 15:52\n",
      "550 638.9303638556747 1071.9483217472016 04/10/23 15:52\n",
      "600 638.9303638556747 1057.590187167006 04/10/23 15:52\n",
      "650 638.9303638556747 1053.4557110672815 04/10/23 15:52\n",
      "700 638.9303638556747 1073.543669879728 04/10/23 15:52\n",
      "750 638.9303638556747 1053.6165884251839 04/10/23 15:52\n",
      "800 638.9303638556747 1074.9636267076046 04/10/23 15:52\n",
      "850 638.9303638556747 1052.9895241274323 04/10/23 15:52\n",
      "900 638.9303638556747 1048.5570144920728 04/10/23 15:52\n",
      "950 638.9303638556747 1066.4102628169044 04/10/23 15:52\n",
      "1000 638.9303638556747 1077.754212843098 04/10/23 15:52\n",
      "1050 638.9303638556747 1056.5882695202592 04/10/23 15:52\n",
      "1100 638.9303638556747 1054.9447334961992 04/10/23 15:52\n",
      "1150 638.9303638556747 1051.9129356238016 04/10/23 15:53\n",
      "1200 638.9303638556747 1071.4689695386392 04/10/23 15:53\n",
      "1250 638.9303638556747 1060.2720452228154 04/10/23 15:53\n",
      "1300 638.9303638556747 1053.8518264904233 04/10/23 15:53\n",
      "1350 638.9303638556747 1064.4870242543004 04/10/23 15:53\n",
      "1400 638.9303638556747 1077.3746107330646 04/10/23 15:53\n",
      "1450 638.9303638556747 1071.412978339029 04/10/23 15:53\n",
      "1500 638.9303638556747 1075.0626777445298 04/10/23 15:53\n",
      "1550 638.9303638556747 1077.6340491743636 04/10/23 15:53\n",
      "1600 638.9303638556747 1084.4145876077084 04/10/23 15:53\n",
      "1650 638.9303638556747 1068.3950490402808 04/10/23 15:53\n",
      "1700 638.9303638556747 1076.107936226945 04/10/23 15:53\n",
      "1750 631.6344921747726 1065.6007879370475 04/10/23 15:53\n",
      "1800 631.6344921747726 1069.4009749967367 04/10/23 15:53\n",
      "1850 631.6344921747726 1074.0243502450858 04/10/23 15:53\n",
      "1900 631.6344921747726 1067.5437508064258 04/10/23 15:53\n",
      "1950 631.6344921747726 1060.8053027521885 04/10/23 15:53\n",
      "2000 631.6344921747726 1062.3698514641242 04/10/23 15:53\n",
      "2050 631.6344921747726 1068.1347690503937 04/10/23 15:53\n",
      "2100 631.6344921747726 1065.6861432843957 04/10/23 15:53\n",
      "2150 627.4688395196201 1071.980231839494 04/10/23 15:53\n",
      "2200 627.4688395196201 1075.036775986733 04/10/23 15:53\n",
      "2250 623.2405968829954 1078.2909224317023 04/10/23 15:53\n",
      "2300 623.2405968829954 1054.7458753281346 04/10/23 15:53\n",
      "2350 623.2405968829954 1068.469289448266 04/10/23 15:53\n",
      "2400 623.2405968829954 1066.3332565613923 04/10/23 15:53\n",
      "2450 623.2405968829954 1070.2077721006497 04/10/23 15:53\n",
      "2500 623.2405968829954 1061.7202659627346 04/10/23 15:53\n",
      "2550 623.2405968829954 1074.1954800658357 04/10/23 15:53\n",
      "2600 623.2405968829954 1087.3853055447396 04/10/23 15:53\n",
      "2650 623.2405968829954 1076.1685958114472 04/10/23 15:53\n",
      "2700 623.2405968829954 1079.976622344843 04/10/23 15:53\n",
      "2750 615.0032462803854 1062.8897198107388 04/10/23 15:53\n",
      "2800 615.0032462803854 1078.2191473018433 04/10/23 15:53\n",
      "2850 615.0032462803854 1068.6520621292984 04/10/23 15:53\n",
      "2900 615.0032462803854 1066.537584396187 04/10/23 15:53\n",
      "2950 615.0032462803854 1079.660044847322 04/10/23 15:53\n",
      "3000 615.0032462803854 1061.9052612091307 04/10/23 15:53\n",
      "3050 615.0032462803854 1073.6648985733661 04/10/23 15:53\n",
      "3100 615.0032462803854 1068.355043408528 04/10/23 15:54\n",
      "3150 615.0032462803854 1048.898972504333 04/10/23 15:54\n",
      "3200 615.0032462803854 1060.859998565848 04/10/23 15:54\n",
      "3250 615.0032462803854 1079.2434726161941 04/10/23 15:54\n",
      "3300 615.0032462803854 1067.737117461983 04/10/23 15:54\n",
      "3350 615.0032462803854 1058.1666641677243 04/10/23 15:54\n",
      "3400 615.0032462803854 1082.9099030787847 04/10/23 15:54\n",
      "3450 615.0032462803854 1076.285642165561 04/10/23 15:54\n",
      "3500 615.0032462803854 1082.9640546100227 04/10/23 15:54\n",
      "3550 615.0032462803854 1080.7492625750122 04/10/23 15:54\n",
      "3600 615.0032462803854 1088.9975465882028 04/10/23 15:54\n",
      "3650 615.0032462803854 1070.1987944155344 04/10/23 15:54\n",
      "3700 606.7018598465482 1062.2763299371225 04/10/23 15:54\n",
      "3750 606.7018598465482 1061.4238459543728 04/10/23 15:54\n",
      "3800 606.7018598465482 1071.8972870640937 04/10/23 15:54\n",
      "3850 606.7018598465482 1075.7511403021922 04/10/23 15:54\n",
      "3900 606.7018598465482 1053.7596917657843 04/10/23 15:54\n",
      "3950 606.7018598465482 1094.173354045913 04/10/23 15:54\n",
      "4000 606.7018598465482 1048.4413469074477 04/10/23 15:54\n",
      "4050 606.7018598465482 1069.1188995555226 04/10/23 15:54\n",
      "4100 606.7018598465482 1063.6322067564083 04/10/23 15:54\n",
      "4150 606.7018598465482 1066.303701456646 04/10/23 15:54\n",
      "4200 606.7018598465482 1072.5890926680297 04/10/23 15:54\n",
      "4250 606.7018598465482 1067.487550908055 04/10/23 15:54\n",
      "4300 606.7018598465482 1055.7526125536674 04/10/23 15:54\n",
      "4350 606.7018598465482 1079.4517699364078 04/10/23 15:54\n",
      "4400 606.7018598465482 1076.188079919884 04/10/23 15:54\n",
      "4450 606.7018598465482 1068.9365283730078 04/10/23 15:54\n",
      "4500 606.7018598465482 1067.0201635398366 04/10/23 15:54\n",
      "4550 606.7018598465482 1067.387312490878 04/10/23 15:54\n",
      "4600 606.7018598465482 1079.7950457570669 04/10/23 15:54\n",
      "4650 606.7018598465482 1074.1783332843409 04/10/23 15:54\n",
      "4700 606.7018598465482 1077.7075412376391 04/10/23 15:54\n",
      "4750 606.7018598465482 1080.0863729171754 04/10/23 15:54\n",
      "4800 606.7018598465482 1078.114017245336 04/10/23 15:54\n",
      "4850 606.7018598465482 1077.6571129057536 04/10/23 15:54\n",
      "4900 606.7018598465482 1076.9922834884037 04/10/23 15:54\n",
      "4950 606.7018598465482 1079.2033563918249 04/10/23 15:54\n",
      "5000 606.7018598465482 1049.085929474807 04/10/23 15:55\n",
      "5050 606.7018598465482 1092.3207760976786 04/10/23 15:55\n",
      "5100 606.7018598465482 1079.1173192063955 04/10/23 15:55\n",
      "5150 606.7018598465482 1065.2140158501504 04/10/23 15:55\n",
      "5200 606.7018598465482 1062.7629591168934 04/10/23 15:55\n",
      "5250 606.7018598465482 1062.1507490120146 04/10/23 15:55\n",
      "5300 606.7018598465482 1059.1927843377132 04/10/23 15:55\n",
      "5350 606.7018598465482 1063.1710560767167 04/10/23 15:55\n",
      "5400 606.7018598465482 1084.388620156481 04/10/23 15:55\n",
      "5450 606.7018598465482 1081.6557727301315 04/10/23 15:55\n",
      "5500 606.7018598465482 1073.7016396331835 04/10/23 15:55\n",
      "5550 606.7018598465482 1075.0465837361546 04/10/23 15:55\n",
      "5600 606.7018598465482 1077.4083058103622 04/10/23 15:55\n",
      "5650 606.7018598465482 1053.309561061333 04/10/23 15:55\n",
      "5700 606.7018598465482 1055.2491297522147 04/10/23 15:55\n",
      "5750 606.7018598465482 1058.9313616830875 04/10/23 15:55\n",
      "5800 606.7018598465482 1052.8691875097247 04/10/23 15:55\n",
      "5850 606.7018598465482 1088.5331949011984 04/10/23 15:55\n",
      "5900 606.7018598465482 1076.1802958911644 04/10/23 15:55\n",
      "5950 606.7018598465482 1082.083649089107 04/10/23 15:55\n",
      "6000 606.7018598465482 1068.3769594450607 04/10/23 15:55\n",
      "6050 606.7018598465482 1075.5525355147745 04/10/23 15:55\n",
      "6100 606.7018598465482 1072.3272200288968 04/10/23 15:55\n",
      "6150 606.7018598465482 1057.048269966001 04/10/23 15:55\n",
      "6200 606.7018598465482 1071.5562251432054 04/10/23 15:55\n",
      "6250 606.7018598465482 1090.7474475171432 04/10/23 15:55\n",
      "6300 606.7018598465482 1072.2462921640786 04/10/23 15:55\n",
      "6350 606.7018598465482 1066.336137149138 04/10/23 15:55\n",
      "6400 606.7018598465482 1084.0090070211997 04/10/23 15:55\n",
      "6450 606.7018598465482 1075.1828152750104 04/10/23 15:55\n",
      "6500 606.7018598465482 1077.8331045981038 04/10/23 15:55\n",
      "6550 606.7018598465482 1078.7878799713199 04/10/23 15:55\n",
      "6600 606.7018598465482 1081.1747003409998 04/10/23 15:55\n",
      "6650 606.7018598465482 1080.0875843409788 04/10/23 15:55\n",
      "6700 606.7018598465482 1066.2472235445805 04/10/23 15:55\n",
      "6750 606.7018598465482 1068.8488761651497 04/10/23 15:55\n",
      "6800 606.7018598465482 1075.857951204063 04/10/23 15:55\n",
      "6850 606.7018598465482 1057.4399075206081 04/10/23 15:55\n",
      "6900 606.7018598465482 1055.7107125036448 04/10/23 15:55\n",
      "6950 606.7018598465482 1069.2956456690094 04/10/23 15:56\n",
      "7000 606.7018598465482 1063.4650811209458 04/10/23 15:56\n",
      "7050 606.7018598465482 1059.185992355885 04/10/23 15:56\n",
      "7100 606.7018598465482 1063.8963402114518 04/10/23 15:56\n",
      "7150 606.7018598465482 1068.8219858096645 04/10/23 15:56\n",
      "7200 606.7018598465482 1072.677894000305 04/10/23 15:56\n",
      "7250 606.7018598465482 1066.7234926949939 04/10/23 15:56\n",
      "7300 606.7018598465482 1069.4231244547846 04/10/23 15:56\n",
      "7350 606.7018598465482 1055.8312025099528 04/10/23 15:56\n",
      "7400 606.7018598465482 1083.9392465823591 04/10/23 15:56\n",
      "7450 606.7018598465482 1055.9001830910709 04/10/23 15:56\n",
      "7500 606.7018598465482 1058.0715226494876 04/10/23 15:56\n",
      "7550 606.7018598465482 1063.4644407127244 04/10/23 15:56\n",
      "7600 606.7018598465482 1075.448056609078 04/10/23 15:56\n",
      "7650 606.7018598465482 1089.8460985717213 04/10/23 15:56\n",
      "7700 606.7018598465482 1061.2164493481425 04/10/23 15:56\n",
      "7750 606.7018598465482 1082.58664059102 04/10/23 15:56\n",
      "7800 606.7018598465482 1073.641634679791 04/10/23 15:56\n",
      "7850 606.7018598465482 1087.0743271285357 04/10/23 15:56\n",
      "7900 606.7018598465482 1050.1405857394132 04/10/23 15:56\n",
      "7950 606.7018598465482 1056.032228401849 04/10/23 15:56\n",
      "8000 606.7018598465482 1063.0687964215256 04/10/23 15:56\n",
      "8050 606.7018598465482 1066.0418494903147 04/10/23 15:56\n",
      "8100 606.7018598465482 1063.929807270741 04/10/23 15:56\n",
      "8150 606.7018598465482 1075.7413128425899 04/10/23 15:56\n",
      "8200 606.7018598465482 1065.2561823688507 04/10/23 15:56\n",
      "8250 606.7018598465482 1058.2839979986265 04/10/23 15:56\n",
      "8300 606.7018598465482 1065.2555631225116 04/10/23 15:56\n",
      "8350 606.7018598465482 1064.2247767115316 04/10/23 15:56\n",
      "8400 606.7018598465482 1066.7574087035873 04/10/23 15:56\n",
      "8450 606.7018598465482 1071.6958851491934 04/10/23 15:56\n",
      "8500 606.7018598465482 1052.3157001058855 04/10/23 15:56\n",
      "8550 606.7018598465482 1058.6718872540648 04/10/23 15:56\n",
      "8600 606.7018598465482 1082.2972953572817 04/10/23 15:56\n",
      "8650 606.7018598465482 1060.214888051057 04/10/23 15:56\n",
      "8700 606.7018598465482 1060.5330787375162 04/10/23 15:56\n",
      "8750 606.7018598465482 1058.7764218020825 04/10/23 15:56\n",
      "8800 606.7018598465482 1069.3016787970912 04/10/23 15:56\n",
      "8850 606.7018598465482 1054.6744704597775 04/10/23 15:56\n",
      "8900 606.7018598465482 1065.2772971561242 04/10/23 15:57\n",
      "8950 606.7018598465482 1076.7856308687617 04/10/23 15:57\n",
      "9000 539.6613296450128 1062.8699512941375 04/10/23 15:57\n",
      "9050 539.6613296450128 1069.2027055311746 04/10/23 15:57\n",
      "9100 539.6613296450128 1057.3026564134402 04/10/23 15:57\n",
      "9150 539.6613296450128 1078.0115321117614 04/10/23 15:57\n",
      "9200 539.6613296450128 1054.6344281964446 04/10/23 15:57\n",
      "9250 539.6613296450128 1057.1685339898117 04/10/23 15:57\n",
      "9300 539.6613296450128 1073.1217226318784 04/10/23 15:57\n",
      "9350 539.6613296450128 1067.1067380265617 04/10/23 15:57\n",
      "9400 539.6613296450128 1063.3806609885341 04/10/23 15:57\n",
      "9450 539.6613296450128 1071.3630652207657 04/10/23 15:57\n",
      "9500 539.6613296450128 1077.2605956850132 04/10/23 15:57\n",
      "9550 539.6613296450128 1069.6087453981268 04/10/23 15:57\n",
      "9600 539.6613296450128 1081.172045567981 04/10/23 15:57\n",
      "9650 539.6613296450128 1074.0950428050082 04/10/23 15:57\n",
      "9700 539.6613296450128 1081.9664819246666 04/10/23 15:57\n",
      "9750 539.6613296450128 1047.1707724307175 04/10/23 15:57\n",
      "9800 539.6613296450128 1075.8354077740719 04/10/23 15:57\n",
      "9850 539.6613296450128 1067.0265217005997 04/10/23 15:57\n",
      "9900 539.6613296450128 1085.5274164886612 04/10/23 15:57\n",
      "9950 539.6613296450128 1071.8156188272044 04/10/23 15:57\n"
     ]
    }
   ],
   "source": [
    "best_solution = [-1,np.inf,np.array([])]\n",
    "for i in range(10000):\n",
    "    if i%50==0: print(i, best_solution[1], fitnes_list.mean(), datetime.now().strftime(\"%d/%m/%y %H:%M\"))\n",
    "    fitnes_list = get_all_fitnes(mutated_pop,cities_dict)\n",
    "    \n",
    "    #Saving the best solution\n",
    "    if fitnes_list.min() < best_solution[1]:\n",
    "        best_solution[0] = i\n",
    "        best_solution[1] = fitnes_list.min()\n",
    "        best_solution[2] = np.array(mutated_pop)[fitnes_list.min() == fitnes_list]\n",
    "    \n",
    "    progenitor_list = progenitor_selection(population_set,fitnes_list)\n",
    "    new_population_set = mate_population(progenitor_list)\n",
    "    \n",
    "    mutated_pop = mutate_population(new_population_set)"
   ]
  },
  {
   "cell_type": "code",
   "execution_count": 225,
   "metadata": {},
   "outputs": [
    {
     "data": {
      "text/plain": [
       "[8963,\n",
       " 539.6613296450128,\n",
       " array([['Berlin', 'Budapest', 'Amsterdam', 'Munich', 'Birmingham',\n",
       "         'Istanbul', 'Milan', 'Brussels', 'Barcelona', 'Rome', 'Paris',\n",
       "         'Warsaw', 'London', 'Kyiv', 'Minsk', 'Bucharest', 'Sofia',\n",
       "         'Prague', 'Moscow', 'Vienna']], dtype='<U10')]"
      ]
     },
     "execution_count": 225,
     "metadata": {},
     "output_type": "execute_result"
    }
   ],
   "source": [
    "best_solution"
   ]
  },
  {
   "cell_type": "code",
   "execution_count": 226,
   "metadata": {},
   "outputs": [
    {
     "name": "stdout",
     "output_type": "stream",
     "text": [
      "100\n",
      "0.9\n"
     ]
    }
   ],
   "source": [
    "print(n_population)\n",
    "print(mutation_rate)"
   ]
  },
  {
   "cell_type": "code",
   "execution_count": 227,
   "metadata": {},
   "outputs": [
    {
     "ename": "ValueError",
     "evalue": "x and y must be the same size",
     "output_type": "error",
     "traceback": [
      "\u001b[1;31m---------------------------------------------------------------------------\u001b[0m",
      "\u001b[1;31mValueError\u001b[0m                                Traceback (most recent call last)",
      "\u001b[1;32mc:\\Users\\annan\\repos\\AnnaBergknutGit\\BTH\\TillämpadAI\\Task1.ipynb Cell 13\u001b[0m line \u001b[0;36m1\n\u001b[1;32m----> <a href='vscode-notebook-cell:/c%3A/Users/annan/repos/AnnaBergknutGit/BTH/Till%C3%A4mpadAI/Task1.ipynb#X15sZmlsZQ%3D%3D?line=0'>1</a>\u001b[0m plt\u001b[39m.\u001b[39;49mscatter(best_solution,\u001b[39m'\u001b[39;49m\u001b[39mo-\u001b[39;49m\u001b[39m'\u001b[39;49m,color\u001b[39m=\u001b[39;49m\u001b[39m'\u001b[39;49m\u001b[39mred\u001b[39;49m\u001b[39m'\u001b[39;49m)\n\u001b[0;32m      <a href='vscode-notebook-cell:/c%3A/Users/annan/repos/AnnaBergknutGit/BTH/Till%C3%A4mpadAI/Task1.ipynb#X15sZmlsZQ%3D%3D?line=1'>2</a>\u001b[0m plt\u001b[39m.\u001b[39myscale(\u001b[39m'\u001b[39m\u001b[39mlog\u001b[39m\u001b[39m'\u001b[39m)\n\u001b[0;32m      <a href='vscode-notebook-cell:/c%3A/Users/annan/repos/AnnaBergknutGit/BTH/Till%C3%A4mpadAI/Task1.ipynb#X15sZmlsZQ%3D%3D?line=2'>3</a>\u001b[0m plt\u001b[39m.\u001b[39mxlabel(\u001b[39m'\u001b[39m\u001b[39mGenerations\u001b[39m\u001b[39m'\u001b[39m)\n",
      "File \u001b[1;32m~\\AppData\\Local\\Packages\\PythonSoftwareFoundation.Python.3.9_qbz5n2kfra8p0\\LocalCache\\local-packages\\Python39\\site-packages\\matplotlib\\pyplot.py:2862\u001b[0m, in \u001b[0;36mscatter\u001b[1;34m(x, y, s, c, marker, cmap, norm, vmin, vmax, alpha, linewidths, edgecolors, plotnonfinite, data, **kwargs)\u001b[0m\n\u001b[0;32m   2857\u001b[0m \u001b[39m@_copy_docstring_and_deprecators\u001b[39m(Axes\u001b[39m.\u001b[39mscatter)\n\u001b[0;32m   2858\u001b[0m \u001b[39mdef\u001b[39;00m \u001b[39mscatter\u001b[39m(\n\u001b[0;32m   2859\u001b[0m         x, y, s\u001b[39m=\u001b[39m\u001b[39mNone\u001b[39;00m, c\u001b[39m=\u001b[39m\u001b[39mNone\u001b[39;00m, marker\u001b[39m=\u001b[39m\u001b[39mNone\u001b[39;00m, cmap\u001b[39m=\u001b[39m\u001b[39mNone\u001b[39;00m, norm\u001b[39m=\u001b[39m\u001b[39mNone\u001b[39;00m,\n\u001b[0;32m   2860\u001b[0m         vmin\u001b[39m=\u001b[39m\u001b[39mNone\u001b[39;00m, vmax\u001b[39m=\u001b[39m\u001b[39mNone\u001b[39;00m, alpha\u001b[39m=\u001b[39m\u001b[39mNone\u001b[39;00m, linewidths\u001b[39m=\u001b[39m\u001b[39mNone\u001b[39;00m, \u001b[39m*\u001b[39m,\n\u001b[0;32m   2861\u001b[0m         edgecolors\u001b[39m=\u001b[39m\u001b[39mNone\u001b[39;00m, plotnonfinite\u001b[39m=\u001b[39m\u001b[39mFalse\u001b[39;00m, data\u001b[39m=\u001b[39m\u001b[39mNone\u001b[39;00m, \u001b[39m*\u001b[39m\u001b[39m*\u001b[39mkwargs):\n\u001b[1;32m-> 2862\u001b[0m     __ret \u001b[39m=\u001b[39m gca()\u001b[39m.\u001b[39mscatter(\n\u001b[0;32m   2863\u001b[0m         x, y, s\u001b[39m=\u001b[39ms, c\u001b[39m=\u001b[39mc, marker\u001b[39m=\u001b[39mmarker, cmap\u001b[39m=\u001b[39mcmap, norm\u001b[39m=\u001b[39mnorm,\n\u001b[0;32m   2864\u001b[0m         vmin\u001b[39m=\u001b[39mvmin, vmax\u001b[39m=\u001b[39mvmax, alpha\u001b[39m=\u001b[39malpha, linewidths\u001b[39m=\u001b[39mlinewidths,\n\u001b[0;32m   2865\u001b[0m         edgecolors\u001b[39m=\u001b[39medgecolors, plotnonfinite\u001b[39m=\u001b[39mplotnonfinite,\n\u001b[0;32m   2866\u001b[0m         \u001b[39m*\u001b[39m\u001b[39m*\u001b[39m({\u001b[39m\"\u001b[39m\u001b[39mdata\u001b[39m\u001b[39m\"\u001b[39m: data} \u001b[39mif\u001b[39;00m data \u001b[39mis\u001b[39;00m \u001b[39mnot\u001b[39;00m \u001b[39mNone\u001b[39;00m \u001b[39melse\u001b[39;00m {}), \u001b[39m*\u001b[39m\u001b[39m*\u001b[39mkwargs)\n\u001b[0;32m   2867\u001b[0m     sci(__ret)\n\u001b[0;32m   2868\u001b[0m     \u001b[39mreturn\u001b[39;00m __ret\n",
      "File \u001b[1;32m~\\AppData\\Local\\Packages\\PythonSoftwareFoundation.Python.3.9_qbz5n2kfra8p0\\LocalCache\\local-packages\\Python39\\site-packages\\matplotlib\\__init__.py:1473\u001b[0m, in \u001b[0;36m_preprocess_data.<locals>.inner\u001b[1;34m(ax, data, *args, **kwargs)\u001b[0m\n\u001b[0;32m   1470\u001b[0m \u001b[39m@functools\u001b[39m\u001b[39m.\u001b[39mwraps(func)\n\u001b[0;32m   1471\u001b[0m \u001b[39mdef\u001b[39;00m \u001b[39minner\u001b[39m(ax, \u001b[39m*\u001b[39margs, data\u001b[39m=\u001b[39m\u001b[39mNone\u001b[39;00m, \u001b[39m*\u001b[39m\u001b[39m*\u001b[39mkwargs):\n\u001b[0;32m   1472\u001b[0m     \u001b[39mif\u001b[39;00m data \u001b[39mis\u001b[39;00m \u001b[39mNone\u001b[39;00m:\n\u001b[1;32m-> 1473\u001b[0m         \u001b[39mreturn\u001b[39;00m func(ax, \u001b[39m*\u001b[39m\u001b[39mmap\u001b[39m(sanitize_sequence, args), \u001b[39m*\u001b[39m\u001b[39m*\u001b[39mkwargs)\n\u001b[0;32m   1475\u001b[0m     bound \u001b[39m=\u001b[39m new_sig\u001b[39m.\u001b[39mbind(ax, \u001b[39m*\u001b[39margs, \u001b[39m*\u001b[39m\u001b[39m*\u001b[39mkwargs)\n\u001b[0;32m   1476\u001b[0m     auto_label \u001b[39m=\u001b[39m (bound\u001b[39m.\u001b[39marguments\u001b[39m.\u001b[39mget(label_namer)\n\u001b[0;32m   1477\u001b[0m                   \u001b[39mor\u001b[39;00m bound\u001b[39m.\u001b[39mkwargs\u001b[39m.\u001b[39mget(label_namer))\n",
      "File \u001b[1;32m~\\AppData\\Local\\Packages\\PythonSoftwareFoundation.Python.3.9_qbz5n2kfra8p0\\LocalCache\\local-packages\\Python39\\site-packages\\matplotlib\\axes\\_axes.py:4578\u001b[0m, in \u001b[0;36mAxes.scatter\u001b[1;34m(self, x, y, s, c, marker, cmap, norm, vmin, vmax, alpha, linewidths, edgecolors, plotnonfinite, **kwargs)\u001b[0m\n\u001b[0;32m   4576\u001b[0m y \u001b[39m=\u001b[39m np\u001b[39m.\u001b[39mma\u001b[39m.\u001b[39mravel(y)\n\u001b[0;32m   4577\u001b[0m \u001b[39mif\u001b[39;00m x\u001b[39m.\u001b[39msize \u001b[39m!=\u001b[39m y\u001b[39m.\u001b[39msize:\n\u001b[1;32m-> 4578\u001b[0m     \u001b[39mraise\u001b[39;00m \u001b[39mValueError\u001b[39;00m(\u001b[39m\"\u001b[39m\u001b[39mx and y must be the same size\u001b[39m\u001b[39m\"\u001b[39m)\n\u001b[0;32m   4580\u001b[0m \u001b[39mif\u001b[39;00m s \u001b[39mis\u001b[39;00m \u001b[39mNone\u001b[39;00m:\n\u001b[0;32m   4581\u001b[0m     s \u001b[39m=\u001b[39m (\u001b[39m20\u001b[39m \u001b[39mif\u001b[39;00m mpl\u001b[39m.\u001b[39mrcParams[\u001b[39m'\u001b[39m\u001b[39m_internal.classic_mode\u001b[39m\u001b[39m'\u001b[39m] \u001b[39melse\u001b[39;00m\n\u001b[0;32m   4582\u001b[0m          mpl\u001b[39m.\u001b[39mrcParams[\u001b[39m'\u001b[39m\u001b[39mlines.markersize\u001b[39m\u001b[39m'\u001b[39m] \u001b[39m*\u001b[39m\u001b[39m*\u001b[39m \u001b[39m2.0\u001b[39m)\n",
      "\u001b[1;31mValueError\u001b[0m: x and y must be the same size"
     ]
    },
    {
     "data": {
      "image/png": "[encoded data removed]",
      "text/plain": [
       "<Figure size 640x480 with 1 Axes>"
      ]
     },
     "metadata": {},
     "output_type": "display_data"
    }
   ],
   "source": [
    "plt.scatter(best_solution,'o-',color='red')\n",
    "plt.yscale('log')\n",
    "plt.xlabel('Generations')\n",
    "plt.ylabel('Function Value')\n",
    "plt.title(\"Maximization of Function\")\n",
    "plt.grid(True)\n",
    "plt.show()"
   ]
  },
  {
   "cell_type": "code",
   "execution_count": null,
   "metadata": {},
   "outputs": [],
   "source": []
  }
 ],
 "metadata": {
  "kernelspec": {
   "display_name": "Python 3.10.6 64-bit",
   "language": "python",
   "name": "python3"
  },
  "language_info": {
   "codemirror_mode": {
    "name": "ipython",
    "version": 3
   },
   "file_extension": ".py",
   "mimetype": "text/x-python",
   "name": "python",
   "nbconvert_exporter": "python",
   "pygments_lexer": "ipython3",
   "version": "3.9.13"
  },
  "vscode": {
   "interpreter": {
    "hash": "33a4542e4cc6c10be1951f7181ece9e030a5d84a8de853c4e052a2492c0e6b9c"
   }
  }
 },
 "nbformat": 4,
 "nbformat_minor": 2
}
