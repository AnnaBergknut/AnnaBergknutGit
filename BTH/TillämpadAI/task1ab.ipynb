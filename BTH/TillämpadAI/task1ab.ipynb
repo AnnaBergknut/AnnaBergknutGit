{
 "cells": [
  {
   "cell_type": "code",
   "execution_count": 1,
   "metadata": {},
   "outputs": [],
   "source": [
    "# Imports \n",
    "import numpy as np\n",
    "\n",
    "import matplotlib.pyplot as plt\n"
   ]
  },
  {
   "cell_type": "code",
   "execution_count": 2,
   "metadata": {},
   "outputs": [],
   "source": [
    "# Parameters\n",
    "n_cities = 20\n",
    "mutation_rates = [0.1, 0.3, 0.6, 0.9]\n",
    "population_sizes = [10, 20, 50, 100]"
   ]
  },
  {
   "cell_type": "code",
   "execution_count": 3,
   "metadata": {},
   "outputs": [
    {
     "data": {
      "text/plain": [
       "{'Berlin': [63, 57],\n",
       " 'London': [45, 30],\n",
       " 'Moscow': [70, 4],\n",
       " 'Barcelona': [23, 46],\n",
       " 'Rome': [9, 21],\n",
       " 'Paris': [47, 66],\n",
       " 'Vienna': [57, 74],\n",
       " 'Munich': [22, 54],\n",
       " 'Istanbul': [2, 85],\n",
       " 'Kyiv': [85, 56],\n",
       " 'Bucharest': [29, 1],\n",
       " 'Minsk': [37, 46],\n",
       " 'Warsaw': [39, 20],\n",
       " 'Budapest': [15, 89],\n",
       " 'Milan': [39, 63],\n",
       " 'Prague': [76, 3],\n",
       " 'Sofia': [89, 8],\n",
       " 'Birmingham': [97, 71],\n",
       " 'Brussels': [72, 63],\n",
       " 'Amsterdam': [65, 10]}"
      ]
     },
     "execution_count": 3,
     "metadata": {},
     "output_type": "execute_result"
    }
   ],
   "source": [
    "# Generating a list of coordenades representing each city\n",
    "coordinates_list = [[x,y] for x,y in zip(np.random.randint(0,100,n_cities),np.random.randint(0,100,n_cities))]\n",
    "names_list = np.array(['Berlin', 'London', 'Moscow', 'Barcelona', 'Rome', 'Paris', 'Vienna', 'Munich', 'Istanbul', 'Kyiv', 'Bucharest', 'Minsk', 'Warsaw', 'Budapest', 'Milan', 'Prague', 'Sofia', 'Birmingham', 'Brussels', 'Amsterdam'])\n",
    "cities_dict = { x:y for x,y in zip(names_list,coordinates_list)}\n",
    "\n",
    "# Function to compute the distance between two points\n",
    "def compute_city_distance_coordinates(a,b):\n",
    "    return ((a[0]-b[0])**2+(a[1]-b[1])**2)**0.5\n",
    "\n",
    "def compute_city_distance_names(city_a, city_b, cities_dict):\n",
    "    return compute_city_distance_coordinates(cities_dict[city_a], cities_dict[city_b])\n",
    "\n",
    "cities_dict"
   ]
  },
  {
   "cell_type": "code",
   "execution_count": 4,
   "metadata": {},
   "outputs": [],
   "source": [
    "# First step: Create the first population set\n",
    "def genesis(city_list, n_population):\n",
    "    population_set = []\n",
    "    for i in range(n_population):\n",
    "        # Randomly generating a new solution\n",
    "        sol_i = city_list[np.random.choice(list(range(n_cities)), n_cities, replace=False)]\n",
    "        population_set.append(sol_i)\n",
    "    return np.array(population_set)"
   ]
  },
  {
   "cell_type": "code",
   "execution_count": 5,
   "metadata": {},
   "outputs": [],
   "source": [
    "# Function to compute the fitness of a solution\n",
    "def fitness_eval(city_list, cities_dict):\n",
    "    total = 0\n",
    "    for i in range(n_cities - 1):\n",
    "        a = city_list[i]\n",
    "        b = city_list[i + 1]\n",
    "        total += compute_city_distance_names(a, b, cities_dict)\n",
    "    return total"
   ]
  },
  {
   "cell_type": "code",
   "execution_count": 6,
   "metadata": {},
   "outputs": [],
   "source": [
    "def get_all_fitnes(population_set, cities_dict):\n",
    "    fitnes_list = np.zeros(len(population_set))\n",
    "\n",
    "    for i in range(len(population_set)):\n",
    "        fitnes_list[i] = fitness_eval(population_set[i], cities_dict)\n",
    "\n",
    "    return fitnes_list"
   ]
  },
  {
   "cell_type": "code",
   "execution_count": 7,
   "metadata": {},
   "outputs": [],
   "source": [
    "def progenitor_selection(population_set,fitnes_list):\n",
    "    total_fit = fitnes_list.sum()\n",
    "    prob_list = (total_fit/fitnes_list)\n",
    "    prob_list = prob_list/prob_list.sum()\n",
    "    \n",
    "    #Notice there is the chance that a progenitor. mates with oneself\n",
    "    progenitor_list_a = np.random.choice(list(range(len(population_set))), len(population_set),p=prob_list, replace=True)\n",
    "    progenitor_list_b = np.random.choice(list(range(len(population_set))), len(population_set),p=prob_list, replace=True)\n",
    "    \n",
    "    progenitor_list_a = population_set[progenitor_list_a]\n",
    "    progenitor_list_b = population_set[progenitor_list_b]\n",
    "    \n",
    "    \n",
    "    return np.array([progenitor_list_a,progenitor_list_b])"
   ]
  },
  {
   "cell_type": "code",
   "execution_count": 8,
   "metadata": {},
   "outputs": [],
   "source": [
    "def mate_progenitors(prog_a, prog_b):\n",
    "    offspring = prog_a[:5]  # Copy the first 5 cities from prog_a\n",
    "\n",
    "    for city in prog_b:\n",
    "        if city not in offspring:\n",
    "            offspring = np.concatenate((offspring, [city]))\n",
    "\n",
    "    return offspring"
   ]
  },
  {
   "cell_type": "code",
   "execution_count": 9,
   "metadata": {},
   "outputs": [],
   "source": [
    "def mate_population(progenitor_list):\n",
    "    new_population_set = []\n",
    "    for i in range(progenitor_list.shape[1]):\n",
    "        prog_a, prog_b = progenitor_list[0][i], progenitor_list[1][i]\n",
    "        offspring = mate_progenitors(prog_a, prog_b)\n",
    "        new_population_set.append(offspring)\n",
    "\n",
    "    return new_population_set"
   ]
  },
  {
   "cell_type": "code",
   "execution_count": 10,
   "metadata": {},
   "outputs": [],
   "source": [
    "def mutate_offspring(offspring):\n",
    "    for q in range(int(n_cities * mutation_rate)):\n",
    "        a = np.random.randint(0, n_cities)\n",
    "        b = np.random.randint(0, n_cities)\n",
    "        offspring[a], offspring[b] = offspring[b], offspring[a]\n",
    "\n",
    "    return offspring"
   ]
  },
  {
   "cell_type": "code",
   "execution_count": 11,
   "metadata": {},
   "outputs": [],
   "source": [
    "def mutate_population(new_population_set):\n",
    "    mutated_pop = []\n",
    "    for offspring in new_population_set:\n",
    "        mutated_pop.append(mutate_offspring(offspring))\n",
    "    return mutated_pop"
   ]
  },
  {
   "cell_type": "code",
   "execution_count": 13,
   "metadata": {},
   "outputs": [
    {
     "ename": "KeyboardInterrupt",
     "evalue": "",
     "output_type": "error",
     "traceback": [
      "\u001b[1;31m---------------------------------------------------------------------------\u001b[0m",
      "\u001b[1;31mKeyboardInterrupt\u001b[0m                         Traceback (most recent call last)",
      "\u001b[1;32mc:\\Users\\annan\\repos\\AnnaBergknutGit\\BTH\\TillämpadAI\\task1ab.ipynb Cell 12\u001b[0m line \u001b[0;36m2\n\u001b[0;32m     <a href='vscode-notebook-cell:/c%3A/Users/annan/repos/AnnaBergknutGit/BTH/Till%C3%A4mpadAI/task1ab.ipynb#X16sZmlsZQ%3D%3D?line=23'>24</a>\u001b[0m     best_solution[\u001b[39m1\u001b[39m] \u001b[39m=\u001b[39m fitnes_list\u001b[39m.\u001b[39mmin()\n\u001b[0;32m     <a href='vscode-notebook-cell:/c%3A/Users/annan/repos/AnnaBergknutGit/BTH/Till%C3%A4mpadAI/task1ab.ipynb#X16sZmlsZQ%3D%3D?line=24'>25</a>\u001b[0m     best_solution[\u001b[39m2\u001b[39m] \u001b[39m=\u001b[39m np\u001b[39m.\u001b[39marray(mutated_pop)[fitnes_list\u001b[39m.\u001b[39mmin() \u001b[39m==\u001b[39m fitnes_list]\n\u001b[1;32m---> <a href='vscode-notebook-cell:/c%3A/Users/annan/repos/AnnaBergknutGit/BTH/Till%C3%A4mpadAI/task1ab.ipynb#X16sZmlsZQ%3D%3D?line=26'>27</a>\u001b[0m progenitor_list \u001b[39m=\u001b[39m progenitor_selection(population_set,fitnes_list)\n\u001b[0;32m     <a href='vscode-notebook-cell:/c%3A/Users/annan/repos/AnnaBergknutGit/BTH/Till%C3%A4mpadAI/task1ab.ipynb#X16sZmlsZQ%3D%3D?line=27'>28</a>\u001b[0m new_population_set \u001b[39m=\u001b[39m mate_population(progenitor_list)\n\u001b[0;32m     <a href='vscode-notebook-cell:/c%3A/Users/annan/repos/AnnaBergknutGit/BTH/Till%C3%A4mpadAI/task1ab.ipynb#X16sZmlsZQ%3D%3D?line=29'>30</a>\u001b[0m mutated_pop \u001b[39m=\u001b[39m mutate_population(new_population_set)\n",
      "\u001b[1;32mc:\\Users\\annan\\repos\\AnnaBergknutGit\\BTH\\TillämpadAI\\task1ab.ipynb Cell 12\u001b[0m line \u001b[0;36m1\n\u001b[0;32m      <a href='vscode-notebook-cell:/c%3A/Users/annan/repos/AnnaBergknutGit/BTH/Till%C3%A4mpadAI/task1ab.ipynb#X16sZmlsZQ%3D%3D?line=6'>7</a>\u001b[0m progenitor_list_a \u001b[39m=\u001b[39m np\u001b[39m.\u001b[39mrandom\u001b[39m.\u001b[39mchoice(\u001b[39mlist\u001b[39m(\u001b[39mrange\u001b[39m(\u001b[39mlen\u001b[39m(population_set))), \u001b[39mlen\u001b[39m(population_set),p\u001b[39m=\u001b[39mprob_list, replace\u001b[39m=\u001b[39m\u001b[39mTrue\u001b[39;00m)\n\u001b[0;32m      <a href='vscode-notebook-cell:/c%3A/Users/annan/repos/AnnaBergknutGit/BTH/Till%C3%A4mpadAI/task1ab.ipynb#X16sZmlsZQ%3D%3D?line=7'>8</a>\u001b[0m progenitor_list_b \u001b[39m=\u001b[39m np\u001b[39m.\u001b[39mrandom\u001b[39m.\u001b[39mchoice(\u001b[39mlist\u001b[39m(\u001b[39mrange\u001b[39m(\u001b[39mlen\u001b[39m(population_set))), \u001b[39mlen\u001b[39m(population_set),p\u001b[39m=\u001b[39mprob_list, replace\u001b[39m=\u001b[39m\u001b[39mTrue\u001b[39;00m)\n\u001b[1;32m---> <a href='vscode-notebook-cell:/c%3A/Users/annan/repos/AnnaBergknutGit/BTH/Till%C3%A4mpadAI/task1ab.ipynb#X16sZmlsZQ%3D%3D?line=9'>10</a>\u001b[0m progenitor_list_a \u001b[39m=\u001b[39m population_set[progenitor_list_a]\n\u001b[0;32m     <a href='vscode-notebook-cell:/c%3A/Users/annan/repos/AnnaBergknutGit/BTH/Till%C3%A4mpadAI/task1ab.ipynb#X16sZmlsZQ%3D%3D?line=10'>11</a>\u001b[0m progenitor_list_b \u001b[39m=\u001b[39m population_set[progenitor_list_b]\n\u001b[0;32m     <a href='vscode-notebook-cell:/c%3A/Users/annan/repos/AnnaBergknutGit/BTH/Till%C3%A4mpadAI/task1ab.ipynb#X16sZmlsZQ%3D%3D?line=13'>14</a>\u001b[0m \u001b[39mreturn\u001b[39;00m np\u001b[39m.\u001b[39marray([progenitor_list_a,progenitor_list_b])\n",
      "\u001b[1;31mKeyboardInterrupt\u001b[0m: "
     ]
    },
    {
     "data": {
      "image/png": "[encoded data removed]",
      "text/plain": [
       "<Figure size 1500x900 with 4 Axes>"
      ]
     },
     "metadata": {},
     "output_type": "display_data"
    }
   ],
   "source": [
    "best_fitness_dict = {}\n",
    "\n",
    "fig, axes = plt.subplots(2, 2, figsize=[15, 9])\n",
    "\n",
    "for pop_size in [10, 20, 50, 100]: #\n",
    "    n_population = pop_size\n",
    "    for mut_rate in [0.9, 0.6, 0.3, 0.1]:\n",
    "        best_solution = [-1,np.inf,np.array([])]\n",
    "        mutation_rate = mut_rate\n",
    "        population_set = genesis(names_list, pop_size)\n",
    "        fitnes_list = get_all_fitnes(population_set,cities_dict)\n",
    "        progenitor_list = progenitor_selection(population_set,fitnes_list)\n",
    "        new_population_set = mate_population(progenitor_list)\n",
    "        mutated_pop = mutate_population(new_population_set)\n",
    "        \n",
    "        test_name = (str(pop_size) + \" | \" + str(mut_rate))\n",
    "        best_fitness_dict[test_name] = []\n",
    "\n",
    "        for i in range(10000): \n",
    "            fitnes_list = get_all_fitnes(mutated_pop,cities_dict)\n",
    "\n",
    "            #Saving the best solution\n",
    "            if fitnes_list.min() < best_solution[1]:\n",
    "                best_solution[0] = i\n",
    "                best_solution[1] = fitnes_list.min()\n",
    "                best_solution[2] = np.array(mutated_pop)[fitnes_list.min() == fitnes_list]\n",
    "\n",
    "            progenitor_list = progenitor_selection(population_set,fitnes_list)\n",
    "            new_population_set = mate_population(progenitor_list)\n",
    "\n",
    "            mutated_pop = mutate_population(new_population_set)\n",
    "\n",
    "\n",
    "            best_fitness_dict[test_name].append(best_solution[1])\n",
    "\n",
    "j = 0\n",
    "previous = '10 '\n",
    "for i in list(best_fitness_dict.keys()):\n",
    "    if i[:3] != previous:\n",
    "        j+=1\n",
    "    axes[(j%2, j//2)].set_title(\"Population size: \" + i[:3])\n",
    "    previous = i[:3]\n",
    "    data_Y = best_fitness_dict[i]\n",
    "    data_X = list(range(10000))\n",
    "    axes[(j%2, j//2)].plot(data_X, data_Y, label = (\"Mutation rate: \" + i[-3:]))\n",
    "    axes[(j%2, j//2)].legend()\n",
    "\n",
    "\n",
    "plt.show()"
   ]
  },
  {
   "cell_type": "code",
   "execution_count": null,
   "metadata": {},
   "outputs": [],
   "source": []
  }
 ],
 "metadata": {
  "kernelspec": {
   "display_name": "Python 3",
   "language": "python",
   "name": "python3"
  },
  "language_info": {
   "codemirror_mode": {
    "name": "ipython",
    "version": 3
   },
   "file_extension": ".py",
   "mimetype": "text/x-python",
   "name": "python",
   "nbconvert_exporter": "python",
   "pygments_lexer": "ipython3",
   "version": "3.9.13"
  },
  "orig_nbformat": 4
 },
 "nbformat": 4,
 "nbformat_minor": 2
}
